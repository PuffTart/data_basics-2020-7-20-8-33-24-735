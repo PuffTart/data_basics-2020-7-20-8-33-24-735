{
 "cells": [
  {
   "cell_type": "code",
   "execution_count": 5,
   "metadata": {},
   "outputs": [
    {
     "data": {
      "text/plain": [
       "[1, 1, 2, 3, 5]"
      ]
     },
     "execution_count": 5,
     "metadata": {},
     "output_type": "execute_result"
    }
   ],
   "source": [
    "def fibonList(num):   #定义斐波那契数列\n",
    "    fibonList = []\n",
    "    for i in range(0, num):\n",
    "        if len(fibonList) < 2:\n",
    "            fibonList.append(1)\n",
    "            continue\n",
    "        fibonList.append(fibonList[-1]+fibonList[-2])   # 巧用列表\n",
    "    return fibonList\n",
    "fibonList(5)"
   ]
  }
 ],
 "metadata": {
  "kernelspec": {
   "display_name": "Python 3",
   "language": "python",
   "name": "python3"
  },
  "language_info": {
   "codemirror_mode": {
    "name": "ipython",
    "version": 3
   },
   "file_extension": ".py",
   "mimetype": "text/x-python",
   "name": "python",
   "nbconvert_exporter": "python",
   "pygments_lexer": "ipython3",
   "version": "3.7.6"
  }
 },
 "nbformat": 4,
 "nbformat_minor": 4
}
